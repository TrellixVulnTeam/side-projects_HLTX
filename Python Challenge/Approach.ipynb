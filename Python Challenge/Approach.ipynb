{
 "cells": [
  {
   "cell_type": "markdown",
   "id": "fef47fcd-e310-4dfb-95e3-d27ab1abdd4a",
   "metadata": {},
   "source": [
    "# [Python Challenge](http://www.pythonchallenge.com/)\n",
    "\n",
    "My approach to the python challenge."
   ]
  },
  {
   "cell_type": "markdown",
   "id": "ecb02e15-f0e7-46a6-b894-ce01adf92041",
   "metadata": {},
   "source": [
    "## 0\n",
    "\n",
    "Hint: try to change the URL address."
   ]
  },
  {
   "cell_type": "code",
   "execution_count": 49,
   "id": "dbce4707-2335-4034-8540-154390e93f54",
   "metadata": {},
   "outputs": [],
   "source": [
    "sol0 = 2**38"
   ]
  },
  {
   "cell_type": "markdown",
   "id": "a7cdd6d7-8b53-43e8-ae74-e942bc01a1e0",
   "metadata": {},
   "source": [
    "## 1\n",
    "\n",
    "\n",
    "everybody thinks twice before solving this.\n",
    "\n",
    "\n",
    "Hint:\n",
    "- K -> M\n",
    "- O -> Q\n",
    "- E -> G\n",
    "\n",
    "From the hint we see that this is a caesar cipher where each letter is shifted by two."
   ]
  },
  {
   "cell_type": "code",
   "execution_count": 50,
   "id": "a690a80d-ca9c-4a4c-ba17-445cfc894771",
   "metadata": {},
   "outputs": [
    {
     "name": "stdout",
     "output_type": "stream",
     "text": [
      "i hope you didnt translate it by hand. thats what computers are for. doing it in by hand is inefficient and that's why this text is so long. using string.maketrans() is recommended. now apply on the url.\n"
     ]
    }
   ],
   "source": [
    "input = \"g fmnc wms bgblr rpylqjyrc gr zw fylb. rfyrq ufyr amknsrcpq ypc dmp. bmgle gr gl zw fylb gq glcddgagclr ylb rfyr'q ufw rfgq rcvr gq qm jmle. sqgle qrpgle.kyicrpylq() gq pcamkkclbcb. lmu ynnjw ml rfc spj.\"\n",
    "\n",
    "intab = \"abcdefghijklmnopqrstuvwxyz\"\n",
    "outtab = \"cdefghijklmnopqrstuvwxyzab\"\n",
    "print(input.translate({ord(x): y for (x, y) in zip(intab, outtab)}))"
   ]
  },
  {
   "cell_type": "code",
   "execution_count": 52,
   "id": "ed823dfa-f1f0-44a9-a6f1-3097f2d2cc63",
   "metadata": {},
   "outputs": [],
   "source": [
    "input = \"map\"\n",
    "sol1 = input.translate({ord(x): y for (x, y) in zip(intab, outtab)})"
   ]
  },
  {
   "cell_type": "markdown",
   "id": "5ae7eacc-a7c0-4817-96d7-b6107d0c7c72",
   "metadata": {},
   "source": [
    "## 2\n",
    "\n",
    "recognize the characters. maybe they are in the book, but MAYBE they are in the page source.\n",
    "\n",
    "Inspect page source, copy comment block, save to 3.txt"
   ]
  },
  {
   "cell_type": "code",
   "execution_count": 71,
   "id": "a7c3c317-8f7d-44bd-97b6-027954a72626",
   "metadata": {},
   "outputs": [],
   "source": [
    "import re\n",
    "t2 = open(\"2.txt\", \"r\").read()\n",
    "# Find all letters\n",
    "sol2= \" \".join(re.findall(\"[a-zA-Z]+\", t2)).replace(\" \", \"\")"
   ]
  },
  {
   "cell_type": "markdown",
   "id": "e36f1b63-38ba-4a0d-b22c-5bcfb42490a6",
   "metadata": {},
   "source": [
    "## 3\n",
    "\n",
    "One small letter, surrounded by EXACTLY three big bodyguards on each of its sides.\n",
    "\n",
    "Inspect page source, copy comment block, save to 4.txt\n",
    "\n",
    "Note next page is in .php"
   ]
  },
  {
   "cell_type": "code",
   "execution_count": 72,
   "id": "bf017a48-17ea-4f12-baeb-3835dccda325",
   "metadata": {},
   "outputs": [],
   "source": [
    "t3 = open(\"3.txt\", \"r\").read()\n",
    "# Find all lowercase letters surrounded by exactly 3 uppercase letters nXXXxXXXn.\n",
    "reg = '[a-z]{1}[A-Z]{3}[a-z]{1}[A-Z]{3}[a-z]{1}'\n",
    "bodyguarded = \" \".join(re.findall(reg, t3))\n",
    "sol3 = \"\"\n",
    "# Get middle letter of each word\n",
    "for word in bodyguarded.split(' '):\n",
    "    sol3 = sol3 + word[4]"
   ]
  },
  {
   "cell_type": "markdown",
   "id": "c1745d84-748a-4dcf-bbb8-39eb342340f1",
   "metadata": {},
   "source": [
    "## 4\n",
    "\n",
    "follow the chain\n",
    "\n",
    "Hint: urllib may help. DON'T TRY ALL NOTHINGS, since it will never end. 400 times is more than enough."
   ]
  },
  {
   "cell_type": "code",
   "execution_count": 69,
   "id": "550fea24-492d-4945-8821-f8c5c82c72b3",
   "metadata": {},
   "outputs": [],
   "source": [
    "import urllib.request\n",
    "import numpy as np\n",
    "# Only loop max 400 times\n",
    "i = 400\n",
    "nothing = 1\n",
    "while i > 0:\n",
    "    request_url = urllib.request.urlopen(f'http://www.pythonchallenge.com/pc/def/linkedlist.php?nothing={nothing}')\n",
    "    # convert byte object output to string\n",
    "    byte = request_url.read().decode(\"utf-8\") \n",
    "    \n",
    "    # Get digits out of byte string\n",
    "    digits = re.findall(r'\\d+', byte)\n",
    "    \n",
    "    if digits != []:\n",
    "        nothing = digits[0]\n",
    "        i -= 1\n",
    "    # End loop if no more nothings\n",
    "    else:\n",
    "        i = 0"
   ]
  },
  {
   "cell_type": "code",
   "execution_count": 73,
   "id": "217a29fe-a60a-4a1b-86a0-c130f439eb68",
   "metadata": {},
   "outputs": [],
   "source": [
    "request_url = urllib.request.urlopen(f'http://www.pythonchallenge.com/pc/def/linkedlist.php?nothing={nothing}')\n",
    "sol4 = request_url.read().decode(\"utf-8\") "
   ]
  },
  {
   "cell_type": "markdown",
   "id": "f49049e5-843f-431b-b228-16a33d71e2ce",
   "metadata": {},
   "source": [
    "## 5 \n",
    "\n",
    "pronounce it"
   ]
  },
  {
   "cell_type": "code",
   "execution_count": null,
   "id": "f5ce05c7-7f83-4fd8-a042-ac239100fedb",
   "metadata": {},
   "outputs": [],
   "source": []
  }
 ],
 "metadata": {
  "kernelspec": {
   "display_name": "Python 3 (ipykernel)",
   "language": "python",
   "name": "python3"
  },
  "language_info": {
   "codemirror_mode": {
    "name": "ipython",
    "version": 3
   },
   "file_extension": ".py",
   "mimetype": "text/x-python",
   "name": "python",
   "nbconvert_exporter": "python",
   "pygments_lexer": "ipython3",
   "version": "3.8.12"
  }
 },
 "nbformat": 4,
 "nbformat_minor": 5
}
